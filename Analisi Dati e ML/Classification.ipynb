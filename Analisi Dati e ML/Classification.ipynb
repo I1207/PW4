{
 "cells": [
  {
   "cell_type": "markdown",
   "metadata": {},
   "source": [
    "# Binary classification of the complete dataset\n"
   ]
  },
  {
   "cell_type": "code",
   "execution_count": 36,
   "metadata": {},
   "outputs": [],
   "source": [
    "import numpy as np\n",
    "import pandas as pd\n",
    "import pyodbc\n",
    "import matplotlib.pyplot as plt\n",
    "\n",
    "import os"
   ]
  },
  {
   "cell_type": "code",
   "execution_count": 37,
   "metadata": {},
   "outputs": [],
   "source": [
    "# Connection String\n",
    "\n",
    "serverName = \"sqlserver-pw.database.windows.net\" \n",
    "databaseName = \"db-ai\"\n",
    "username = \"girls\"\n",
    "password = \"Password?\""
   ]
  },
  {
   "cell_type": "code",
   "execution_count": 38,
   "metadata": {},
   "outputs": [],
   "source": [
    "# Make the conncection to our Server\n",
    "\n",
    "connection_string = f'DRIVER={{SQL Server}};SERVER='+serverName+';DATABASE='+databaseName+';UID='+username+';PWD='+ password\n",
    "\n",
    "cnxn = pyodbc.connect(connection_string)\n",
    "cursor = cnxn.cursor()"
   ]
  },
  {
   "cell_type": "code",
   "execution_count": 39,
   "metadata": {},
   "outputs": [],
   "source": [
    "query = \"SELECT  Canale, CodAgenzia,ClusterAgenzia, CodContratto,CategoriaCespite, Cespite, TipologiaUtenza,[DataTrasf.entr.], Anagrafica,SettoreMerceologico, ListinoProposto, [Soc.Vend.Prec.],ClusterSocVend,Localita, [Cod.ISTAT], Provincia,RegioneItaliana, Zona, ModoPagamento, RedditoTotale, Mese01,MesiBEP,MesiAttivi, UltimoReddito,BEP FROM try.DatiConsumi_ML \""
   ]
  },
  {
   "cell_type": "code",
   "execution_count": 40,
   "metadata": {},
   "outputs": [
    {
     "name": "stderr",
     "output_type": "stream",
     "text": [
      "C:\\Users\\IreneDeNevi\\AppData\\Local\\Temp\\ipykernel_45368\\620203339.py:1: UserWarning: pandas only supports SQLAlchemy connectable (engine/connection) or database string URI or sqlite3 DBAPI2 connection. Other DBAPI2 objects are not tested. Please consider using SQLAlchemy.\n",
      "  df = pd.read_sql(query,cnxn)\n"
     ]
    }
   ],
   "source": [
    "df = pd.read_sql(query,cnxn)"
   ]
  },
  {
   "cell_type": "code",
   "execution_count": 41,
   "metadata": {},
   "outputs": [
    {
     "data": {
      "text/plain": [
       "Canale                   0\n",
       "CodAgenzia               0\n",
       "ClusterAgenzia           0\n",
       "CodContratto             0\n",
       "CategoriaCespite         0\n",
       "Cespite                  0\n",
       "TipologiaUtenza          0\n",
       "DataTrasf.entr.          0\n",
       "Anagrafica               0\n",
       "SettoreMerceologico      0\n",
       "ListinoProposto          0\n",
       "Soc.Vend.Prec.         232\n",
       "ClusterSocVend           0\n",
       "Localita                 0\n",
       "Cod.ISTAT                0\n",
       "Provincia                0\n",
       "RegioneItaliana          0\n",
       "Zona                     0\n",
       "ModoPagamento            0\n",
       "RedditoTotale            0\n",
       "Mese01                   0\n",
       "MesiBEP                  0\n",
       "MesiAttivi               0\n",
       "UltimoReddito            0\n",
       "BEP                      0\n",
       "dtype: int64"
      ]
     },
     "execution_count": 41,
     "metadata": {},
     "output_type": "execute_result"
    }
   ],
   "source": [
    "df.isnull().sum()"
   ]
  },
  {
   "cell_type": "code",
   "execution_count": 42,
   "metadata": {},
   "outputs": [],
   "source": [
    "#Data Cleaning and Formatting\n",
    "\n",
    "df.dropna(subset=[\"Soc.Vend.Prec.\"], inplace=True)\n",
    "int_columns = [\"Canale\", \"CodAgenzia\", \"ClusterAgenzia\", \"CodContratto\", \"Cespite\",  \"Anagrafica\", \"SettoreMerceologico\", \"ListinoProposto\", \"Soc.Vend.Prec.\", \"ClusterSocVend\", \"Localita\", \"Provincia\", \"RegioneItaliana\", \"Zona\", \"ModoPagamento\", \"UltimoReddito\"]\n",
    "df[int_columns] = df[int_columns].astype(int)\n",
    "df['Year_Trasf.entr.'] = pd.to_datetime(df['DataTrasf.entr.']).dt.year\n",
    "df['Month_Trasf.entr.'] = pd.to_datetime(df['DataTrasf.entr.']).dt.month\n",
    "df['Day_Trasf.entr.'] = pd.to_datetime(df['DataTrasf.entr.']).dt.day\n",
    "df.drop(['DataTrasf.entr.'],axis=1,inplace=True) \n"
   ]
  },
  {
   "cell_type": "code",
   "execution_count": 43,
   "metadata": {},
   "outputs": [],
   "source": [
    "y = df['BEP']               #Target\n",
    "X = df.drop('BEP', axis=1)  #Features"
   ]
  },
  {
   "cell_type": "code",
   "execution_count": 44,
   "metadata": {},
   "outputs": [],
   "source": [
    "from sklearn.model_selection import train_test_split\n",
    "\n",
    "X_train, X_test, y_train, y_test = train_test_split(X, y , test_size=0.25, random_state=42) "
   ]
  },
  {
   "cell_type": "code",
   "execution_count": 45,
   "metadata": {},
   "outputs": [],
   "source": [
    "from sklearn.preprocessing import StandardScaler\n",
    "\n",
    "ss_train = StandardScaler()\n",
    "X_train = ss_train.fit_transform(X_train)\n",
    "\n",
    "ss_test = StandardScaler()\n",
    "X_test = ss_test.fit_transform(X_test)"
   ]
  },
  {
   "cell_type": "code",
   "execution_count": 46,
   "metadata": {},
   "outputs": [],
   "source": [
    "models = {}\n",
    "\n",
    "# Logistic Regression\n",
    "from sklearn.linear_model import LogisticRegression\n",
    "models['Logistic Regression'] = LogisticRegression()\n",
    "\n",
    "# Support Vector Machines\n",
    "from sklearn.svm import LinearSVC\n",
    "models['Support Vector Machines'] = LinearSVC()\n",
    "\n",
    "# Decision Trees\n",
    "from sklearn.tree import DecisionTreeClassifier\n",
    "models['Decision Trees'] = DecisionTreeClassifier()\n",
    "\n",
    "# Random Forest\n",
    "from sklearn.ensemble import RandomForestClassifier\n",
    "models['Random Forest'] = RandomForestClassifier()\n",
    "\n",
    "# Naive Bayes\n",
    "from sklearn.naive_bayes import GaussianNB\n",
    "models['Naive Bayes'] = GaussianNB()\n",
    "\n",
    "# K-Nearest Neighbors\n",
    "from sklearn.neighbors import KNeighborsClassifier\n",
    "models['K-Nearest Neighbor'] = KNeighborsClassifier()"
   ]
  },
  {
   "cell_type": "code",
   "execution_count": 47,
   "metadata": {},
   "outputs": [
    {
     "name": "stderr",
     "output_type": "stream",
     "text": [
      "C:\\Users\\IreneDeNevi\\AppData\\Local\\Packages\\PythonSoftwareFoundation.Python.3.10_qbz5n2kfra8p0\\LocalCache\\local-packages\\Python310\\site-packages\\sklearn\\linear_model\\_logistic.py:458: ConvergenceWarning: lbfgs failed to converge (status=1):\n",
      "STOP: TOTAL NO. of ITERATIONS REACHED LIMIT.\n",
      "\n",
      "Increase the number of iterations (max_iter) or scale the data as shown in:\n",
      "    https://scikit-learn.org/stable/modules/preprocessing.html\n",
      "Please also refer to the documentation for alternative solver options:\n",
      "    https://scikit-learn.org/stable/modules/linear_model.html#logistic-regression\n",
      "  n_iter_i = _check_optimize_result(\n"
     ]
    },
    {
     "name": "stdout",
     "output_type": "stream",
     "text": [
      "Model: Logistic Regression\n",
      "Confusion Matrix:\n",
      "[[84826     8]\n",
      " [   86 33762]]\n",
      "\n",
      "\n"
     ]
    },
    {
     "name": "stderr",
     "output_type": "stream",
     "text": [
      "C:\\Users\\IreneDeNevi\\AppData\\Local\\Packages\\PythonSoftwareFoundation.Python.3.10_qbz5n2kfra8p0\\LocalCache\\local-packages\\Python310\\site-packages\\sklearn\\svm\\_base.py:1244: ConvergenceWarning: Liblinear failed to converge, increase the number of iterations.\n",
      "  warnings.warn(\n"
     ]
    },
    {
     "name": "stdout",
     "output_type": "stream",
     "text": [
      "Model: Support Vector Machines\n",
      "Confusion Matrix:\n",
      "[[84829     8]\n",
      " [   83 33762]]\n",
      "\n",
      "\n",
      "Model: Decision Trees\n",
      "Confusion Matrix:\n",
      "[[84878     0]\n",
      " [   34 33770]]\n",
      "\n",
      "\n",
      "Model: Random Forest\n",
      "Confusion Matrix:\n",
      "[[84878     0]\n",
      " [   34 33770]]\n",
      "\n",
      "\n",
      "Model: Naive Bayes\n",
      "Confusion Matrix:\n",
      "[[55535     0]\n",
      " [29377 33770]]\n",
      "\n",
      "\n",
      "Model: K-Nearest Neighbor\n",
      "Confusion Matrix:\n",
      "[[82949  2383]\n",
      " [ 1963 31387]]\n",
      "\n",
      "\n"
     ]
    }
   ],
   "source": [
    "from sklearn.metrics import accuracy_score, precision_score, recall_score,confusion_matrix\n",
    "\n",
    "accuracy, precision, recall,confusion_matrices = {}, {}, {}, {}\n",
    "\n",
    "for key in models.keys():\n",
    "    \n",
    "    # Fit the classifier\n",
    "    models[key].fit(X_train, y_train)\n",
    "    \n",
    "    # Make predictions\n",
    "    predictions = models[key].predict(X_test)\n",
    "    \n",
    "    # Calculate metrics\n",
    "    accuracy[key] = accuracy_score(predictions, y_test)     #Accuracy shows how often a classification ML model is correct overall. ->  accuracy answers the question: how often the model is right?\n",
    "    precision[key] = precision_score(predictions, y_test)   #Precision shows how often an ML model is correct when predicting the target class\n",
    "    recall[key] = recall_score(predictions, y_test)         #Recall shows whether an ML model can find all objects of the target class\n",
    "    # Confusion Matrix\n",
    "    confusion_matrices[key] = confusion_matrix(predictions, y_test)\n",
    "\n",
    "\n",
    "    # Print the model and its confusion matrix\n",
    "    print(f\"Model: {key}\")\n",
    "    print(\"Confusion Matrix:\")\n",
    "    print(confusion_matrices[key])\n",
    "    print(\"\\n\")\n"
   ]
  },
  {
   "cell_type": "code",
   "execution_count": 48,
   "metadata": {},
   "outputs": [
    {
     "data": {
      "text/html": [
       "<div>\n",
       "<style scoped>\n",
       "    .dataframe tbody tr th:only-of-type {\n",
       "        vertical-align: middle;\n",
       "    }\n",
       "\n",
       "    .dataframe tbody tr th {\n",
       "        vertical-align: top;\n",
       "    }\n",
       "\n",
       "    .dataframe thead th {\n",
       "        text-align: right;\n",
       "    }\n",
       "</style>\n",
       "<table border=\"1\" class=\"dataframe\">\n",
       "  <thead>\n",
       "    <tr style=\"text-align: right;\">\n",
       "      <th></th>\n",
       "      <th>Model</th>\n",
       "      <th>Accuracy</th>\n",
       "      <th>Precision</th>\n",
       "      <th>Recall</th>\n",
       "      <th>ConfusionMatrix</th>\n",
       "    </tr>\n",
       "  </thead>\n",
       "  <tbody>\n",
       "    <tr>\n",
       "      <th>Logistic Regression</th>\n",
       "      <td>LogisticRegression()</td>\n",
       "      <td>0.999208</td>\n",
       "      <td>0.999763</td>\n",
       "      <td>0.997459</td>\n",
       "      <td>[[84826, 8], [86, 33762]]</td>\n",
       "    </tr>\n",
       "    <tr>\n",
       "      <th>Support Vector Machines</th>\n",
       "      <td>LinearSVC()</td>\n",
       "      <td>0.999233</td>\n",
       "      <td>0.999763</td>\n",
       "      <td>0.997548</td>\n",
       "      <td>[[84829, 8], [83, 33762]]</td>\n",
       "    </tr>\n",
       "    <tr>\n",
       "      <th>Decision Trees</th>\n",
       "      <td>DecisionTreeClassifier()</td>\n",
       "      <td>0.999714</td>\n",
       "      <td>1.000000</td>\n",
       "      <td>0.998994</td>\n",
       "      <td>[[84878, 0], [34, 33770]]</td>\n",
       "    </tr>\n",
       "    <tr>\n",
       "      <th>Random Forest</th>\n",
       "      <td>(DecisionTreeClassifier(max_features='sqrt', r...</td>\n",
       "      <td>0.999714</td>\n",
       "      <td>1.000000</td>\n",
       "      <td>0.998994</td>\n",
       "      <td>[[84878, 0], [34, 33770]]</td>\n",
       "    </tr>\n",
       "    <tr>\n",
       "      <th>Naive Bayes</th>\n",
       "      <td>GaussianNB()</td>\n",
       "      <td>0.752473</td>\n",
       "      <td>1.000000</td>\n",
       "      <td>0.534784</td>\n",
       "      <td>[[55535, 0], [29377, 33770]]</td>\n",
       "    </tr>\n",
       "    <tr>\n",
       "      <th>K-Nearest Neighbor</th>\n",
       "      <td>KNeighborsClassifier()</td>\n",
       "      <td>0.963381</td>\n",
       "      <td>0.929434</td>\n",
       "      <td>0.941139</td>\n",
       "      <td>[[82949, 2383], [1963, 31387]]</td>\n",
       "    </tr>\n",
       "  </tbody>\n",
       "</table>\n",
       "</div>"
      ],
      "text/plain": [
       "                                                                     Model  \\\n",
       "Logistic Regression                                   LogisticRegression()   \n",
       "Support Vector Machines                                        LinearSVC()   \n",
       "Decision Trees                                    DecisionTreeClassifier()   \n",
       "Random Forest            (DecisionTreeClassifier(max_features='sqrt', r...   \n",
       "Naive Bayes                                                   GaussianNB()   \n",
       "K-Nearest Neighbor                                  KNeighborsClassifier()   \n",
       "\n",
       "                         Accuracy  Precision    Recall  \\\n",
       "Logistic Regression      0.999208   0.999763  0.997459   \n",
       "Support Vector Machines  0.999233   0.999763  0.997548   \n",
       "Decision Trees           0.999714   1.000000  0.998994   \n",
       "Random Forest            0.999714   1.000000  0.998994   \n",
       "Naive Bayes              0.752473   1.000000  0.534784   \n",
       "K-Nearest Neighbor       0.963381   0.929434  0.941139   \n",
       "\n",
       "                                        ConfusionMatrix  \n",
       "Logistic Regression           [[84826, 8], [86, 33762]]  \n",
       "Support Vector Machines       [[84829, 8], [83, 33762]]  \n",
       "Decision Trees                [[84878, 0], [34, 33770]]  \n",
       "Random Forest                 [[84878, 0], [34, 33770]]  \n",
       "Naive Bayes                [[55535, 0], [29377, 33770]]  \n",
       "K-Nearest Neighbor       [[82949, 2383], [1963, 31387]]  "
      ]
     },
     "execution_count": 48,
     "metadata": {},
     "output_type": "execute_result"
    }
   ],
   "source": [
    "#Store all the evaluation scores in columns\n",
    "\n",
    "df_model = pd.DataFrame(index=models.keys(), columns=['Model','Accuracy', 'Precision', 'Recall','ConfusionMatrix'])\n",
    "df_model['Model'] = models\n",
    "df_model['Accuracy'] = accuracy.values()\n",
    "df_model['Precision'] = precision.values()\n",
    "df_model['Recall'] = recall.values()\n",
    "df_model['ConfusionMatrix'] = confusion_matrices.values()\n",
    "\n",
    "\n",
    "df_model"
   ]
  },
  {
   "cell_type": "code",
   "execution_count": 49,
   "metadata": {},
   "outputs": [
    {
     "data": {
      "image/png": "[encoded data removed]",
      "text/plain": [
       "<Figure size 640x480 with 1 Axes>"
      ]
     },
     "metadata": {},
     "output_type": "display_data"
    }
   ],
   "source": [
    "ax = df_model.plot.barh()\n",
    "ax.legend(\n",
    "    ncol=len(models.keys()), \n",
    "    bbox_to_anchor=(0, 1), \n",
    "    loc='lower left', \n",
    "    prop={'size': 14}\n",
    ")\n",
    "plt.tight_layout()"
   ]
  },
  {
   "cell_type": "code",
   "execution_count": 50,
   "metadata": {},
   "outputs": [
    {
     "name": "stdout",
     "output_type": "stream",
     "text": [
      "DataFrame saved to: c:\\Users\\IreneDeNevi\\OneDrive - ITS Incom\\Desktop\\PW4\\PW4\\Analisi Dati e ML\\df_Classification_model.csv\n"
     ]
    }
   ],
   "source": [
    "# Get the current working directory (where the script is located)\n",
    "script_folder = os.path.dirname(os.path.abspath(__file__)) if '__file__' in globals() else os.getcwd()\n",
    "# Specify the CSV file name\n",
    "csv_file_name = 'df_Classification_model.csv'\n",
    "\n",
    "# Join the script folder with the CSV file name\n",
    "csv_file_path = os.path.join(script_folder, csv_file_name)\n",
    "\n",
    "# Save the DataFrame to a CSV file\n",
    "df_model.to_csv(csv_file_path, index=False)\n",
    "\n",
    "print(f\"DataFrame saved to: {csv_file_path}\")"
   ]
  },
  {
   "cell_type": "code",
   "execution_count": 51,
   "metadata": {},
   "outputs": [],
   "source": [
    "cnxn.close()"
   ]
  }
 ],
 "metadata": {
  "kernelspec": {
   "display_name": "Python 3",
   "language": "python",
   "name": "python3"
  },
  "language_info": {
   "codemirror_mode": {
    "name": "ipython",
    "version": 3
   },
   "file_extension": ".py",
   "mimetype": "text/x-python",
   "name": "python",
   "nbconvert_exporter": "python",
   "pygments_lexer": "ipython3",
   "version": "3.10.11"
  }
 },
 "nbformat": 4,
 "nbformat_minor": 2
}
