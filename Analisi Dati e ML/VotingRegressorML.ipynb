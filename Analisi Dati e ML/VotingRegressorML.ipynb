{
 "cells": [
  {
   "cell_type": "code",
   "execution_count": 12,
   "metadata": {},
   "outputs": [],
   "source": [
    "import numpy as np\n",
    "import pandas as pd\n",
    "import pyodbc\n",
    "import matplotlib.pyplot as plt"
   ]
  },
  {
   "cell_type": "code",
   "execution_count": 30,
   "metadata": {},
   "outputs": [],
   "source": [
    "# Import necessary libraries to do ML\n",
    "from sklearn.model_selection import learning_curve\n",
    "from sklearn.tree import DecisionTreeRegressor\n",
    "from sklearn.preprocessing import StandardScaler\n",
    "from sklearn.ensemble import RandomForestRegressor,GradientBoostingRegressor,VotingRegressor\n",
    "from sklearn.neighbors import KNeighborsRegressor\n",
    "from sklearn.linear_model import LinearRegression,Ridge,Lasso\n",
    "from sklearn.model_selection import RepeatedKFold\n",
    "from sklearn.model_selection import train_test_split\n",
    "from sklearn.metrics import mean_squared_error, r2_score, explained_variance_score,max_error"
   ]
  },
  {
   "cell_type": "code",
   "execution_count": 14,
   "metadata": {},
   "outputs": [],
   "source": [
    "# Connection String\n",
    "\n",
    "serverName = \"sqlserver-pw.database.windows.net\" \n",
    "databaseName = \"db-ai\"\n",
    "username = \"girls\"\n",
    "password = \"Password?\""
   ]
  },
  {
   "cell_type": "code",
   "execution_count": 15,
   "metadata": {},
   "outputs": [],
   "source": [
    "# Make the conncection to our Server\n",
    "\n",
    "cnxn = pyodbc.connect('DRIVER={SQL Server};SERVER='+serverName+';DATABASE='+databaseName+';UID='+username+';PWD='+ password)\n",
    "cursor = cnxn.cursor()"
   ]
  },
  {
   "cell_type": "code",
   "execution_count": 16,
   "metadata": {},
   "outputs": [],
   "source": [
    "#Splitting the Dataset based on the value of BEP\n",
    "\n",
    "query_1 = \"SELECT  Canale, CodAgenzia,ClusterAgenzia, CodContratto,CategoriaCespite, Cespite, TipologiaUtenza,[DataTrasf.entr.], Anagrafica,SettoreMerceologico, ListinoProposto, [Soc.Vend.Prec.],ClusterSocVend,Localita, [Cod.ISTAT], Provincia,RegioneItaliana, Zona, ModoPagamento, RedditoTotale, Mese01,MesiBEP,MesiAttivi, UltimoReddito FROM try.DatiConsumi_ML WHERE [Soc.Vend.Prec.] is not null and BEP = 1\"\n",
    "query_0 = \"SELECT  Canale, CodAgenzia,ClusterAgenzia, CodContratto,CategoriaCespite, Cespite, TipologiaUtenza,[DataTrasf.entr.], Anagrafica,SettoreMerceologico, ListinoProposto, [Soc.Vend.Prec.],ClusterSocVend,Localita, [Cod.ISTAT], Provincia,RegioneItaliana, Zona, ModoPagamento, RedditoTotale, Mese01,MesiBEP,MesiAttivi, UltimoReddito FROM try.DatiConsumi_ML WHERE [Soc.Vend.Prec.] is not null and BEP = 0\"\n"
   ]
  },
  {
   "cell_type": "code",
   "execution_count": 17,
   "metadata": {},
   "outputs": [
    {
     "name": "stderr",
     "output_type": "stream",
     "text": [
      "C:\\Users\\IreneDeNevi\\AppData\\Local\\Temp\\ipykernel_3068\\2517276147.py:3: UserWarning: pandas only supports SQLAlchemy connectable (engine/connection) or database string URI or sqlite3 DBAPI2 connection. Other DBAPI2 objects are not tested. Please consider using SQLAlchemy.\n",
      "  df_1 = pd.read_sql(query_1, cnxn)\n",
      "C:\\Users\\IreneDeNevi\\AppData\\Local\\Temp\\ipykernel_3068\\2517276147.py:5: UserWarning: pandas only supports SQLAlchemy connectable (engine/connection) or database string URI or sqlite3 DBAPI2 connection. Other DBAPI2 objects are not tested. Please consider using SQLAlchemy.\n",
      "  df_0 = pd.read_sql(query_0, cnxn)\n"
     ]
    }
   ],
   "source": [
    "#Load the dataset into a pandas DataFrame\n",
    "\n",
    "df_1 = pd.read_sql(query_1, cnxn)\n",
    "\n",
    "df_0 = pd.read_sql(query_0, cnxn)"
   ]
  },
  {
   "cell_type": "code",
   "execution_count": 18,
   "metadata": {},
   "outputs": [],
   "source": [
    "df_1['Year_Trasf.entr.'] = pd.to_datetime(df_1['DataTrasf.entr.']).dt.year\n",
    "df_1['Month_Trasf.entr.'] = pd.to_datetime(df_1['DataTrasf.entr.']).dt.month\n",
    "df_1['Day_Trasf.entr.'] = pd.to_datetime(df_1['DataTrasf.entr.']).dt.day\n",
    "df_1.drop(['DataTrasf.entr.'],axis=1,inplace=True) "
   ]
  },
  {
   "cell_type": "code",
   "execution_count": 19,
   "metadata": {},
   "outputs": [],
   "source": [
    "df_0['Year_Trasf.entr.'] = pd.to_datetime(df_0['DataTrasf.entr.']).dt.year\n",
    "df_0['Month_Trasf.entr.'] = pd.to_datetime(df_0['DataTrasf.entr.']).dt.month\n",
    "df_0['Day_Trasf.entr.'] = pd.to_datetime(df_0['DataTrasf.entr.']).dt.day\n",
    "df_0.drop(['DataTrasf.entr.'],axis=1,inplace=True) "
   ]
  },
  {
   "cell_type": "markdown",
   "metadata": {},
   "source": [
    "Machine Learning BEP 1"
   ]
  },
  {
   "cell_type": "code",
   "execution_count": 20,
   "metadata": {},
   "outputs": [],
   "source": [
    "# Define and fit models\n",
    "models = {\n",
    "    'LinearRegression' : LinearRegression(),\n",
    "    'Ridge' :   Ridge(solver='auto'),\n",
    "    'GradientBoostingRegressor' : GradientBoostingRegressor(),\n",
    "    'Lasso' :   Lasso(alpha=0.2),\n",
    "    'DecisionTreeRegressor' : DecisionTreeRegressor(),\n",
    "    'RandomForestRegressor': RandomForestRegressor(),\n",
    "    'KNeighborsRegressor': KNeighborsRegressor(algorithm='auto')\n",
    "}"
   ]
  },
  {
   "cell_type": "code",
   "execution_count": 23,
   "metadata": {},
   "outputs": [],
   "source": [
    "# Lista dei target\n",
    "targets = ['MesiAttivi', 'UltimoReddito', 'MesiBEP']  # Target\n",
    "\n",
    "# Lists to store predictions for each model\n",
    "pred_individual_models = []"
   ]
  },
  {
   "cell_type": "code",
   "execution_count": null,
   "metadata": {},
   "outputs": [],
   "source": [
    "\n",
    "# Loop sui target\n",
    "for target in targets:\n",
    "    # Seleziona il target corrente\n",
    "    y_1 = df_1[target]\n",
    "    \n",
    "    # Seleziona le features escludendo il target corrente\n",
    "    features_to_exclude = [target]\n",
    "    X_1 = df_1.drop(features_to_exclude, axis=1)\n",
    "    \n",
    "    # Splitta il dataset in training e testing set\n",
    "    X_train, X_test, y_train, y_test = train_test_split(X_1, y_1, test_size=0.2, random_state=42)\n",
    "    \n",
    "    # Esegui eventuali operazioni di pre-processing\n",
    "\n",
    "    scaler = StandardScaler()\n",
    "    X_train = scaler.fit_transform(X_train)\n",
    "    X_test = scaler.transform(X_test)\n",
    "\n",
    "    # Define a list of tuples for VotingRegressor\n",
    "    estimators = list(models.items())\n",
    "\n",
    "    # Create the VotingRegressor\n",
    "    ereg = VotingRegressor(estimators)\n",
    "\n",
    "    for i, (name, model) in enumerate(models.items()):\n",
    "        model.fit(X_train, y_train)\n",
    "        y_pred = model.predict(X_test)\n",
    "        \n",
    "        # Valutation\n",
    "        mse = mean_squared_error(y_test, y_pred)\n",
    "        r2 = r2_score(y_test, y_pred)\n",
    "        explained_variance = explained_variance_score(y_test, y_pred)\n",
    "        max_err = np.max(np.abs(y_test - y_pred))\n",
    "        \n",
    "        print(f\"{target} - {name} Mean Squared Error: {mse}\")\n",
    "        print(f\"{target} - {name} R2 score: {r2}\")\n",
    "        print(f\"{target} - {name} Explained Variance Score: {explained_variance}\")\n",
    "        print(f\"{target} - {name} Max Error: {max_err}\")\n",
    "\n",
    "        # Append predictions for individual models\n",
    "        pred_individual_models.append(y_pred)\n",
    "\n",
    "    # Fit the ensemble model outside the inner loop\n",
    "    ereg.fit(X_train, y_train)\n",
    "\n",
    "    # Get predictions for the ensemble model\n",
    "    y_pred_ensemble = ereg.predict(X_test)\n",
    "\n",
    "    # Create subplots\n",
    "    fig, axes = plt.subplots(nrows=len(models), figsize=(10, 6 * (len(models))))\n",
    "\n",
    "    for i, (name, model) in enumerate(models.items()):\n",
    "        # Plot predictions for each model, taking every 250th value\n",
    "        axes[i].plot(range(0, len(y_test), 250), pred_individual_models[i][::250], label=f\"{name} Prediction\")\n",
    "        axes[i].set_ylabel(\"Predicted\")\n",
    "        axes[i].set_xlabel(\"Training Samples (every 250th)\")\n",
    "        axes[i].legend(loc=\"best\")\n",
    "        axes[i].set_title(f\"{name} - Target: {target}\")\n",
    "\n",
    "        # Plot predictions for the VotingRegressor on each subplot\n",
    "        axes[i].plot(range(0, len(y_test), 250), y_pred_ensemble[::250], 'r*', ms=10, label=\"VotingRegressor Prediction\")\n",
    "        axes[i].legend(loc=\"best\")\n",
    "\n",
    "    plt.tight_layout()\n",
    "    plt.show()\n",
    "\n",
    "    for i, (name, model) in enumerate(models.items()):\n",
    "        model.fit(X_train, y_train)\n",
    "\n",
    "        # Plot learning curve\n",
    "        train_sizes, train_scores, test_scores = learning_curve(\n",
    "            model, X_train, y_train, cv=5, scoring='neg_mean_squared_error', train_sizes=np.linspace(0.1, 1.0, 10)\n",
    "        )\n",
    "\n",
    "        train_scores_mean = -np.mean(train_scores, axis=1)\n",
    "        test_scores_mean = -np.mean(test_scores, axis=1)\n",
    "\n",
    "        # Plot the learning curve\n",
    "        plt.figure(figsize=(10, 6))\n",
    "        plt.plot(train_sizes, train_scores_mean, '-o', label='Train')\n",
    "        plt.plot(train_sizes, test_scores_mean, '-o', label='Test')\n",
    "        plt.xlabel('Training Examples')\n",
    "        plt.ylabel('Mean Squared Error')\n",
    "        plt.title(f'Learning Curve - {name} - Target: {target}')\n",
    "        plt.legend()\n",
    "        plt.show()\n"
   ]
  },
  {
   "cell_type": "markdown",
   "metadata": {},
   "source": [
    "GridSearch to optimize GBR"
   ]
  },
  {
   "cell_type": "code",
   "execution_count": 31,
   "metadata": {},
   "outputs": [],
   "source": [
    "from sklearn.model_selection import GridSearchCV\n",
    "\n",
    "for target in targets:\n",
    "    # Seleziona il target corrente\n",
    "    y_1 = df_1[target]\n",
    "    \n",
    "    # Seleziona le features escludendo il target corrente\n",
    "    features_to_exclude = [target]\n",
    "    X_1 = df_1.drop(features_to_exclude, axis=1)\n",
    "    \n",
    "    # Splitta il dataset in training e testing set\n",
    "    X_train, X_test, y_train, y_test = train_test_split(X_1, y_1, test_size=0.2, random_state=42)\n",
    "    \n",
    "    # Esegui eventuali operazioni di pre-processing\n",
    "\n",
    "    scaler = StandardScaler()\n",
    "    X_train = scaler.fit_transform(X_train)\n",
    "    X_test = scaler.transform(X_test)\n",
    "\n",
    "    # Create the GradientBoostingRegressor\n",
    "gb_regressor = GradientBoostingRegressor()\n",
    "\n",
    "# Define the parameter grid to search\n",
    "param_grid = {\n",
    "    'n_estimators': [50, 100, 200],\n",
    "    'learning_rate': [0.01, 0.1, 0.2],\n",
    "    'max_depth': [3, 5, 7],\n",
    "    'min_samples_split': [2, 5, 10],\n",
    "    'min_samples_leaf': [1, 2, 4],\n",
    "}\n",
    "\n",
    "# Create GridSearchCV\n",
    "grid_search = GridSearchCV(gb_regressor, param_grid, scoring='neg_mean_squared_error', cv=5)\n",
    "grid_search.fit(X_train, y_train)\n",
    "\n",
    "# Print the best parameters and best score\n",
    "print(\"Best Parameters: \", grid_search.best_params_)\n",
    "print(\"Best Score: \", -grid_search.best_score_)\n"
   ]
  }
 ],
 "metadata": {
  "kernelspec": {
   "display_name": "Python 3",
   "language": "python",
   "name": "python3"
  },
  "language_info": {
   "codemirror_mode": {
    "name": "ipython",
    "version": 3
   },
   "file_extension": ".py",
   "mimetype": "text/x-python",
   "name": "python",
   "nbconvert_exporter": "python",
   "pygments_lexer": "ipython3",
   "version": "3.10.11"
  }
 },
 "nbformat": 4,
 "nbformat_minor": 2
}
