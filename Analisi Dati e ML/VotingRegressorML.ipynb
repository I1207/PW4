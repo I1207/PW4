{
 "cells": [
  {
   "cell_type": "code",
   "execution_count": 40,
   "metadata": {},
   "outputs": [
    {
     "name": "stdout",
     "output_type": "stream",
     "text": [
      "1.2.2\n"
     ]
    }
   ],
   "source": [
    "# check scikit-learn version\n",
    "import sklearn\n",
    "print(sklearn.__version__)"
   ]
  },
  {
   "cell_type": "code",
   "execution_count": 41,
   "metadata": {},
   "outputs": [],
   "source": [
    "from sklearn.model_selection import train_test_split\n",
    "from sklearn.ensemble import RandomForestRegressor\n",
    "from sklearn.multioutput import MultiOutputRegressor\n",
    "from sklearn.metrics import mean_squared_error\n",
    "import numpy as np\n",
    "import pandas as pd\n",
    "import pyodbc"
   ]
  },
  {
   "cell_type": "code",
   "execution_count": 42,
   "metadata": {},
   "outputs": [],
   "source": [
    "serverName = \"sqlserver-pw.database.windows.net\" \n",
    "databaseName = \"db-ai\"\n",
    "username = \"girls\"\n",
    "password = \"Password?\""
   ]
  },
  {
   "cell_type": "code",
   "execution_count": 43,
   "metadata": {},
   "outputs": [],
   "source": [
    "cnxn = pyodbc.connect('DRIVER={SQL Server};SERVER='+serverName+';DATABASE='+databaseName+';UID='+username+';PWD='+ password)\n",
    "cursor = cnxn.cursor()"
   ]
  },
  {
   "cell_type": "code",
   "execution_count": 44,
   "metadata": {},
   "outputs": [
    {
     "name": "stderr",
     "output_type": "stream",
     "text": [
      "C:\\Users\\IreneDeNevi\\AppData\\Local\\Temp\\ipykernel_25540\\4023592982.py:4: UserWarning: pandas only supports SQLAlchemy connectable (engine/connection) or database string URI or sqlite3 DBAPI2 connection. Other DBAPI2 objects are not tested. Please consider using SQLAlchemy.\n",
      "  df = pd.read_sql(query, cnxn)\n"
     ]
    }
   ],
   "source": [
    "query = \"SELECT TOP 10000 * FROM try.DatiConsumi_ML WHERE [Soc.Vend.Prec.] is not null\"\n",
    "\n",
    "#Load the dataset into a pandas DataFrame\n",
    "df = pd.read_sql(query, cnxn)\n"
   ]
  },
  {
   "cell_type": "code",
   "execution_count": 45,
   "metadata": {},
   "outputs": [
    {
     "data": {
      "text/plain": [
       "Canale                 0\n",
       "CodAgenzia             0\n",
       "ClusterAgenzia         0\n",
       "CodContratto           0\n",
       "CategoriaCespite       0\n",
       "                    ... \n",
       "Mese60              9933\n",
       "MesiBEP                0\n",
       "MesiAttivi             0\n",
       "UltimoReddito          0\n",
       "BEP                    0\n",
       "Length: 98, dtype: int64"
      ]
     },
     "execution_count": 45,
     "metadata": {},
     "output_type": "execute_result"
    }
   ],
   "source": [
    "df.isnull().sum()"
   ]
  },
  {
   "cell_type": "code",
   "execution_count": 46,
   "metadata": {},
   "outputs": [
    {
     "name": "stdout",
     "output_type": "stream",
     "text": [
      "   Canale CodAgenzia ClusterAgenzia CodContratto CategoriaCespite Cespite  \\\n",
      "0       6          1              1       203252                5       4   \n",
      "1       6          1              1       230585                5       4   \n",
      "2       6          1              1       230586                5       4   \n",
      "3       6          1              1       230588                5       4   \n",
      "4       6          1              1       230591                5       4   \n",
      "5       6          1              1       230592                5       4   \n",
      "6       6          1              1       230603                5       4   \n",
      "7       6          1              1       230605                5       4   \n",
      "8       6          1              1       230611                5       4   \n",
      "9       6          1              1       230618                5       4   \n",
      "10      6          1              1       230633                5       4   \n",
      "11      6          1              1       230636                5       4   \n",
      "12      6          1              1       230642                5       4   \n",
      "13      6          1              1       230662                5       4   \n",
      "14      6          1              1       230668                5       4   \n",
      "15      6          1              1       230672                5       4   \n",
      "16      6          1              1       230681                5       4   \n",
      "17      6          1              1       230687                5       4   \n",
      "18      6          1              1       230693                5       4   \n",
      "19      6          1              1       230702                5       4   \n",
      "\n",
      "   TipologiaUtenza DataTrasf.entr. DataTrasf.usc. MotivoBloccoCalc.  ...  \\\n",
      "0                3      2016-10-01     2017-08-31                16  ...   \n",
      "1                3      2017-01-01     2017-11-30                 3  ...   \n",
      "2                3      2017-01-01     2017-11-30                 3  ...   \n",
      "3                3      2017-01-01     2017-11-30                 3  ...   \n",
      "4                3      2017-01-01     2017-11-30                 3  ...   \n",
      "5                3      2017-01-01     2017-11-30                 3  ...   \n",
      "6                3      2017-01-01     2017-11-30                 3  ...   \n",
      "7                3      2017-01-01     2017-11-30                 3  ...   \n",
      "8                3      2017-01-01     2017-11-30                 3  ...   \n",
      "9                3      2017-01-01     2017-11-30                16  ...   \n",
      "10               3      2017-01-01     2017-11-30                 3  ...   \n",
      "11               3      2017-01-01     2017-11-30                 3  ...   \n",
      "12               3      2017-01-01     2017-11-30                 3  ...   \n",
      "13               3      2017-01-01     2017-11-30                 3  ...   \n",
      "14               3      2017-01-01     2017-11-30                16  ...   \n",
      "15               3      2017-01-01     2017-11-30                 3  ...   \n",
      "16               3      2017-01-01     2017-11-30                16  ...   \n",
      "17               3      2017-01-01     2017-11-30                 3  ...   \n",
      "18               3      2017-01-01     2017-11-30                 3  ...   \n",
      "19               3      2017-01-01     2017-11-30                 3  ...   \n",
      "\n",
      "   Mese55 Mese56 Mese57 Mese58 Mese59 Mese60 MesiBEP MesiAttivi UltimoReddito  \\\n",
      "0     NaN    NaN    NaN    NaN    NaN    NaN      11         11         -45.6   \n",
      "1     NaN    NaN    NaN    NaN    NaN    NaN      11         11         -44.1   \n",
      "2     NaN    NaN    NaN    NaN    NaN    NaN      11         11         -44.1   \n",
      "3     NaN    NaN    NaN    NaN    NaN    NaN      11         11         -44.1   \n",
      "4     NaN    NaN    NaN    NaN    NaN    NaN      11         11         -44.1   \n",
      "5     NaN    NaN    NaN    NaN    NaN    NaN      11         11         -44.1   \n",
      "6     NaN    NaN    NaN    NaN    NaN    NaN      11         11         -44.1   \n",
      "7     NaN    NaN    NaN    NaN    NaN    NaN      11         11         -44.1   \n",
      "8     NaN    NaN    NaN    NaN    NaN    NaN      11         11         -44.1   \n",
      "9     NaN    NaN    NaN    NaN    NaN    NaN      11         11         -45.6   \n",
      "10    NaN    NaN    NaN    NaN    NaN    NaN      11         11         -44.1   \n",
      "11    NaN    NaN    NaN    NaN    NaN    NaN      11         11         -44.1   \n",
      "12    NaN    NaN    NaN    NaN    NaN    NaN      11         11         -44.1   \n",
      "13    NaN    NaN    NaN    NaN    NaN    NaN      11         11         -44.1   \n",
      "14    NaN    NaN    NaN    NaN    NaN    NaN      11         11         -45.6   \n",
      "15    NaN    NaN    NaN    NaN    NaN    NaN      11         11         -44.1   \n",
      "16    NaN    NaN    NaN    NaN    NaN    NaN      11         11         -45.6   \n",
      "17    NaN    NaN    NaN    NaN    NaN    NaN      11         11         -44.1   \n",
      "18    NaN    NaN    NaN    NaN    NaN    NaN      11         11         -44.1   \n",
      "19    NaN    NaN    NaN    NaN    NaN    NaN      11         11         -44.1   \n",
      "\n",
      "   BEP  \n",
      "0    0  \n",
      "1    0  \n",
      "2    0  \n",
      "3    0  \n",
      "4    0  \n",
      "5    0  \n",
      "6    0  \n",
      "7    0  \n",
      "8    0  \n",
      "9    0  \n",
      "10   0  \n",
      "11   0  \n",
      "12   0  \n",
      "13   0  \n",
      "14   0  \n",
      "15   0  \n",
      "16   0  \n",
      "17   0  \n",
      "18   0  \n",
      "19   0  \n",
      "\n",
      "[20 rows x 98 columns]\n"
     ]
    }
   ],
   "source": [
    "print(df.head(20))"
   ]
  },
  {
   "cell_type": "code",
   "execution_count": 47,
   "metadata": {},
   "outputs": [
    {
     "data": {
      "text/plain": [
       "Index(['Canale', 'CodAgenzia', 'ClusterAgenzia', 'CodContratto',\n",
       "       'CategoriaCespite', 'Cespite', 'TipologiaUtenza', 'DataTrasf.entr.',\n",
       "       'DataTrasf.usc.', 'MotivoBloccoCalc.', 'Anagrafica',\n",
       "       'SettoreMerceologico', 'ListinoProposto', 'Soc.Vend.Prec.',\n",
       "       'ClusterSocVend', 'Localita', 'Cod.ISTAT', 'Provincia',\n",
       "       'RegioneItaliana', 'Zona', 'ModoPagamento', 'Permanenza',\n",
       "       'ConsumoMedio_annuo', 'ConsumoTotale', 'MargineFissoQF_annuo',\n",
       "       'MargineFissoTotale', 'MargineVariabileQV', 'MargineVariabileQV_annuo',\n",
       "       'MargineVariabileTotale', 'MargineTotale', 'Provvigioni',\n",
       "       'Acquisizione', 'CostoAnnuo_Post-vendita_Customer-care',\n",
       "       'RedditoTotale', 'Mese01', 'Mese02', 'Mese03', 'Mese04', 'Mese05',\n",
       "       'Mese06', 'Mese07', 'Mese08', 'Mese09', 'Mese10', 'Mese11', 'Mese12',\n",
       "       'Mese13', 'Mese14', 'Mese15', 'Mese16', 'Mese17', 'Mese18', 'Mese19',\n",
       "       'Mese20', 'Mese21', 'Mese22', 'Mese23', 'Mese24', 'Mese25', 'Mese26',\n",
       "       'Mese27', 'Mese28', 'Mese29', 'Mese30', 'Mese31', 'Mese32', 'Mese33',\n",
       "       'Mese34', 'Mese35', 'Mese36', 'Mese37', 'Mese38', 'Mese39', 'Mese40',\n",
       "       'Mese41', 'Mese42', 'Mese43', 'Mese44', 'Mese45', 'Mese46', 'Mese47',\n",
       "       'Mese48', 'Mese49', 'Mese50', 'Mese51', 'Mese52', 'Mese53', 'Mese54',\n",
       "       'Mese55', 'Mese56', 'Mese57', 'Mese58', 'Mese59', 'Mese60', 'MesiBEP',\n",
       "       'MesiAttivi', 'UltimoReddito', 'BEP'],\n",
       "      dtype='object')"
      ]
     },
     "execution_count": 47,
     "metadata": {},
     "output_type": "execute_result"
    }
   ],
   "source": [
    "df.columns"
   ]
  },
  {
   "cell_type": "code",
   "execution_count": 48,
   "metadata": {},
   "outputs": [],
   "source": [
    "df.drop(['Mese01', 'Mese02', 'Mese03', 'Mese04', 'Mese05',\n",
    "       'Mese06', 'Mese07', 'Mese08', 'Mese09', 'Mese10', 'Mese11', 'Mese12',\n",
    "       'Mese13', 'Mese14', 'Mese15', 'Mese16', 'Mese17', 'Mese18', 'Mese19',\n",
    "       'Mese20', 'Mese21', 'Mese22', 'Mese23', 'Mese24', 'Mese25', 'Mese26',\n",
    "       'Mese27', 'Mese28', 'Mese29', 'Mese30', 'Mese31', 'Mese32', 'Mese33',\n",
    "       'Mese34', 'Mese35', 'Mese36', 'Mese37', 'Mese38', 'Mese39', 'Mese40',\n",
    "       'Mese41', 'Mese42', 'Mese43', 'Mese44', 'Mese45', 'Mese46', 'Mese47',\n",
    "       'Mese48', 'Mese49', 'Mese50', 'Mese51', 'Mese52', 'Mese53', 'Mese54',\n",
    "       'Mese55', 'Mese56', 'Mese57', 'Mese58', 'Mese59', 'Mese60', 'DataTrasf.entr.',\n",
    "       'DataTrasf.usc.'], axis=1,inplace=True)\n",
    "\n"
   ]
  },
  {
   "cell_type": "code",
   "execution_count": 49,
   "metadata": {},
   "outputs": [
    {
     "data": {
      "text/plain": [
       "Canale                                   0\n",
       "CodAgenzia                               0\n",
       "ClusterAgenzia                           0\n",
       "CodContratto                             0\n",
       "CategoriaCespite                         0\n",
       "Cespite                                  0\n",
       "TipologiaUtenza                          0\n",
       "MotivoBloccoCalc.                        0\n",
       "Anagrafica                               0\n",
       "SettoreMerceologico                      0\n",
       "ListinoProposto                          0\n",
       "Soc.Vend.Prec.                           0\n",
       "ClusterSocVend                           0\n",
       "Localita                                 0\n",
       "Cod.ISTAT                                0\n",
       "Provincia                                0\n",
       "RegioneItaliana                          0\n",
       "Zona                                     0\n",
       "ModoPagamento                            0\n",
       "Permanenza                               0\n",
       "ConsumoMedio_annuo                       0\n",
       "ConsumoTotale                            0\n",
       "MargineFissoQF_annuo                     0\n",
       "MargineFissoTotale                       0\n",
       "MargineVariabileQV                       0\n",
       "MargineVariabileQV_annuo                 0\n",
       "MargineVariabileTotale                   0\n",
       "MargineTotale                            0\n",
       "Provvigioni                              0\n",
       "Acquisizione                             0\n",
       "CostoAnnuo_Post-vendita_Customer-care    0\n",
       "RedditoTotale                            0\n",
       "MesiBEP                                  0\n",
       "MesiAttivi                               0\n",
       "UltimoReddito                            0\n",
       "BEP                                      0\n",
       "dtype: int64"
      ]
     },
     "execution_count": 49,
     "metadata": {},
     "output_type": "execute_result"
    }
   ],
   "source": [
    "df.isnull().sum()"
   ]
  },
  {
   "cell_type": "raw",
   "metadata": {},
   "source": [
    "query = \"SELECT [Soc.Vend.Prec.] FROM try.DatiConsumi_ML\"\n",
    "\n",
    "#Load the dataset into a pandas DataFrame\n",
    "SocVendPrec = pd.read_sql(query, cnxn)\n"
   ]
  },
  {
   "cell_type": "raw",
   "metadata": {},
   "source": [
    "SocVendPrec.isnull().sum()"
   ]
  },
  {
   "cell_type": "code",
   "execution_count": 50,
   "metadata": {},
   "outputs": [
    {
     "name": "stdout",
     "output_type": "stream",
     "text": [
      "(10000, 35) (10000, 3)\n"
     ]
    }
   ],
   "source": [
    "from sklearn.datasets import make_regression\n",
    "# create datasets\n",
    "y = df[['MesiAttivi', 'RedditoTotale', 'BEP']]                                         #Targets\n",
    "X = df[[i for i in list(df.columns) if i != 'RedditoTotale' and 'MesiAttivi' and 'BEP']] #features\n",
    "# summarize dataset\n",
    "print(X.shape, y.shape)"
   ]
  },
  {
   "cell_type": "code",
   "execution_count": 51,
   "metadata": {},
   "outputs": [
    {
     "data": {
      "text/plain": [
       "Canale                                   0\n",
       "CodAgenzia                               0\n",
       "ClusterAgenzia                           0\n",
       "CodContratto                             0\n",
       "CategoriaCespite                         0\n",
       "Cespite                                  0\n",
       "TipologiaUtenza                          0\n",
       "MotivoBloccoCalc.                        0\n",
       "Anagrafica                               0\n",
       "SettoreMerceologico                      0\n",
       "ListinoProposto                          0\n",
       "Soc.Vend.Prec.                           0\n",
       "ClusterSocVend                           0\n",
       "Localita                                 0\n",
       "Cod.ISTAT                                0\n",
       "Provincia                                0\n",
       "RegioneItaliana                          0\n",
       "Zona                                     0\n",
       "ModoPagamento                            0\n",
       "Permanenza                               0\n",
       "ConsumoMedio_annuo                       0\n",
       "ConsumoTotale                            0\n",
       "MargineFissoQF_annuo                     0\n",
       "MargineFissoTotale                       0\n",
       "MargineVariabileQV                       0\n",
       "MargineVariabileQV_annuo                 0\n",
       "MargineVariabileTotale                   0\n",
       "MargineTotale                            0\n",
       "Provvigioni                              0\n",
       "Acquisizione                             0\n",
       "CostoAnnuo_Post-vendita_Customer-care    0\n",
       "MesiBEP                                  0\n",
       "MesiAttivi                               0\n",
       "UltimoReddito                            0\n",
       "BEP                                      0\n",
       "dtype: int64"
      ]
     },
     "execution_count": 51,
     "metadata": {},
     "output_type": "execute_result"
    }
   ],
   "source": [
    "X.isnull().sum()"
   ]
  },
  {
   "cell_type": "code",
   "execution_count": 52,
   "metadata": {},
   "outputs": [],
   "source": [
    "X_train, X_test, y_train, y_test = train_test_split(X,y, test_size=0.25, random_state=42)"
   ]
  },
  {
   "cell_type": "code",
   "execution_count": 53,
   "metadata": {},
   "outputs": [],
   "source": [
    "from sklearn.linear_model import LinearRegression"
   ]
  },
  {
   "cell_type": "code",
   "execution_count": 54,
   "metadata": {},
   "outputs": [],
   "source": [
    "model = LinearRegression()"
   ]
  },
  {
   "cell_type": "code",
   "execution_count": 55,
   "metadata": {},
   "outputs": [
    {
     "data": {
      "text/html": [
       "<style>#sk-container-id-2 {color: black;background-color: white;}#sk-container-id-2 pre{padding: 0;}#sk-container-id-2 div.sk-toggleable {background-color: white;}#sk-container-id-2 label.sk-toggleable__label {cursor: pointer;display: block;width: 100%;margin-bottom: 0;padding: 0.3em;box-sizing: border-box;text-align: center;}#sk-container-id-2 label.sk-toggleable__label-arrow:before {content: \"▸\";float: left;margin-right: 0.25em;color: #696969;}#sk-container-id-2 label.sk-toggleable__label-arrow:hover:before {color: black;}#sk-container-id-2 div.sk-estimator:hover label.sk-toggleable__label-arrow:before {color: black;}#sk-container-id-2 div.sk-toggleable__content {max-height: 0;max-width: 0;overflow: hidden;text-align: left;background-color: #f0f8ff;}#sk-container-id-2 div.sk-toggleable__content pre {margin: 0.2em;color: black;border-radius: 0.25em;background-color: #f0f8ff;}#sk-container-id-2 input.sk-toggleable__control:checked~div.sk-toggleable__content {max-height: 200px;max-width: 100%;overflow: auto;}#sk-container-id-2 input.sk-toggleable__control:checked~label.sk-toggleable__label-arrow:before {content: \"▾\";}#sk-container-id-2 div.sk-estimator input.sk-toggleable__control:checked~label.sk-toggleable__label {background-color: #d4ebff;}#sk-container-id-2 div.sk-label input.sk-toggleable__control:checked~label.sk-toggleable__label {background-color: #d4ebff;}#sk-container-id-2 input.sk-hidden--visually {border: 0;clip: rect(1px 1px 1px 1px);clip: rect(1px, 1px, 1px, 1px);height: 1px;margin: -1px;overflow: hidden;padding: 0;position: absolute;width: 1px;}#sk-container-id-2 div.sk-estimator {font-family: monospace;background-color: #f0f8ff;border: 1px dotted black;border-radius: 0.25em;box-sizing: border-box;margin-bottom: 0.5em;}#sk-container-id-2 div.sk-estimator:hover {background-color: #d4ebff;}#sk-container-id-2 div.sk-parallel-item::after {content: \"\";width: 100%;border-bottom: 1px solid gray;flex-grow: 1;}#sk-container-id-2 div.sk-label:hover label.sk-toggleable__label {background-color: #d4ebff;}#sk-container-id-2 div.sk-serial::before {content: \"\";position: absolute;border-left: 1px solid gray;box-sizing: border-box;top: 0;bottom: 0;left: 50%;z-index: 0;}#sk-container-id-2 div.sk-serial {display: flex;flex-direction: column;align-items: center;background-color: white;padding-right: 0.2em;padding-left: 0.2em;position: relative;}#sk-container-id-2 div.sk-item {position: relative;z-index: 1;}#sk-container-id-2 div.sk-parallel {display: flex;align-items: stretch;justify-content: center;background-color: white;position: relative;}#sk-container-id-2 div.sk-item::before, #sk-container-id-2 div.sk-parallel-item::before {content: \"\";position: absolute;border-left: 1px solid gray;box-sizing: border-box;top: 0;bottom: 0;left: 50%;z-index: -1;}#sk-container-id-2 div.sk-parallel-item {display: flex;flex-direction: column;z-index: 1;position: relative;background-color: white;}#sk-container-id-2 div.sk-parallel-item:first-child::after {align-self: flex-end;width: 50%;}#sk-container-id-2 div.sk-parallel-item:last-child::after {align-self: flex-start;width: 50%;}#sk-container-id-2 div.sk-parallel-item:only-child::after {width: 0;}#sk-container-id-2 div.sk-dashed-wrapped {border: 1px dashed gray;margin: 0 0.4em 0.5em 0.4em;box-sizing: border-box;padding-bottom: 0.4em;background-color: white;}#sk-container-id-2 div.sk-label label {font-family: monospace;font-weight: bold;display: inline-block;line-height: 1.2em;}#sk-container-id-2 div.sk-label-container {text-align: center;}#sk-container-id-2 div.sk-container {/* jupyter's `normalize.less` sets `[hidden] { display: none; }` but bootstrap.min.css set `[hidden] { display: none !important; }` so we also need the `!important` here to be able to override the default hidden behavior on the sphinx rendered scikit-learn.org. See: https://github.com/scikit-learn/scikit-learn/issues/21755 */display: inline-block !important;position: relative;}#sk-container-id-2 div.sk-text-repr-fallback {display: none;}</style><div id=\"sk-container-id-2\" class=\"sk-top-container\"><div class=\"sk-text-repr-fallback\"><pre>LinearRegression()</pre><b>In a Jupyter environment, please rerun this cell to show the HTML representation or trust the notebook. <br />On GitHub, the HTML representation is unable to render, please try loading this page with nbviewer.org.</b></div><div class=\"sk-container\" hidden><div class=\"sk-item\"><div class=\"sk-estimator sk-toggleable\"><input class=\"sk-toggleable__control sk-hidden--visually\" id=\"sk-estimator-id-2\" type=\"checkbox\" checked><label for=\"sk-estimator-id-2\" class=\"sk-toggleable__label sk-toggleable__label-arrow\">LinearRegression</label><div class=\"sk-toggleable__content\"><pre>LinearRegression()</pre></div></div></div></div></div>"
      ],
      "text/plain": [
       "LinearRegression()"
      ]
     },
     "execution_count": 55,
     "metadata": {},
     "output_type": "execute_result"
    }
   ],
   "source": [
    "model.fit(X_train, y_train)"
   ]
  },
  {
   "cell_type": "code",
   "execution_count": 56,
   "metadata": {},
   "outputs": [
    {
     "name": "stdout",
     "output_type": "stream",
     "text": [
      "[ 1.90000000e+01 -4.52858252e+01  1.30968996e-15]\n"
     ]
    }
   ],
   "source": [
    "y_pred = model.predict(X_test) #mesi attivi, reddito, bep\n",
    "print(y_pred[0])"
   ]
  }
 ],
 "metadata": {
  "kernelspec": {
   "display_name": "Python 3",
   "language": "python",
   "name": "python3"
  },
  "language_info": {
   "codemirror_mode": {
    "name": "ipython",
    "version": 3
   },
   "file_extension": ".py",
   "mimetype": "text/x-python",
   "name": "python",
   "nbconvert_exporter": "python",
   "pygments_lexer": "ipython3",
   "version": "3.10.11"
  }
 },
 "nbformat": 4,
 "nbformat_minor": 2
}
