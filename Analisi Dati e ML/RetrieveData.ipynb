{
 "cells": [
  {
   "cell_type": "markdown",
   "metadata": {},
   "source": [
    "This code aims to copy the data of an entire table from one sql server to another"
   ]
  },
  {
   "cell_type": "code",
   "execution_count": 53,
   "metadata": {},
   "outputs": [],
   "source": [
    "import pyodbc"
   ]
  },
  {
   "cell_type": "code",
   "execution_count": 54,
   "metadata": {},
   "outputs": [],
   "source": [
    "# Remote SQL Server connection details\n",
    "remote_server = 'porinieducorsi.database.windows.net'\n",
    "remote_database = 'dbtutorial01'\n",
    "remote_username = 'Lab10DataReader'\n",
    "remote_password = 'Lima86$$'\n",
    "remote_table = 'lab10.DatiConsumi'\n",
    "\n",
    "# \"Local\" SQL Server connection details\n",
    "local_server = 'sqlserver-pw.database.windows.net'\n",
    "local_database = 'db-ai'\n",
    "local_username = 'girls'\n",
    "local_password = 'Password?'\n",
    "local_table = '[lab10].[DatiConsumi_PY]'"
   ]
  },
  {
   "cell_type": "code",
   "execution_count": 55,
   "metadata": {},
   "outputs": [],
   "source": [
    "# Establish connections\n",
    "remote_conn_str = f'DRIVER=SQL Server;SERVER={remote_server};DATABASE={remote_database};UID={remote_username};PWD={remote_password}'\n",
    "local_conn_str = f'DRIVER=SQL Server;SERVER={local_server};DATABASE={local_database};UID={local_username};PWD={local_password}'\n",
    "\n",
    "remote_conn = pyodbc.connect(remote_conn_str)\n",
    "local_conn = pyodbc.connect(local_conn_str)\n",
    "\n",
    "remote_conn.setdecoding(pyodbc.SQL_CHAR, encoding='latin1')\n",
    "remote_conn.setencoding('latin1')\n",
    "\n",
    "local_conn.setdecoding(pyodbc.SQL_CHAR, encoding='latin1')\n",
    "local_conn.setencoding('latin1')"
   ]
  },
  {
   "cell_type": "code",
   "execution_count": 56,
   "metadata": {},
   "outputs": [
    {
     "data": {
      "text/plain": [
       "<pyodbc.Cursor at 0x124c76199b0>"
      ]
     },
     "execution_count": 56,
     "metadata": {},
     "output_type": "execute_result"
    }
   ],
   "source": [
    "# Create cursors\n",
    "remote_cursor = remote_conn.cursor()\n",
    "local_cursor = local_conn.cursor()\n",
    "\n",
    "# Retrieve the structure of the remote table\n",
    "select_query = f\"SELECT * FROM {remote_table}\"\n",
    "remote_cursor.execute(select_query)\n"
   ]
  },
  {
   "cell_type": "code",
   "execution_count": 57,
   "metadata": {},
   "outputs": [],
   "source": [
    "# Fetch all the results using the remote cursor\n",
    "result = remote_cursor.fetchall()       \n",
    "\n",
    "if result:\n",
    "    # Create placeholders for the values in the SQL INSERT statement\n",
    "    placeholders = f', '.join(['?' for _ in remote_cursor.description])\n",
    "    # Insert the values\n",
    "    insert_query = f\"INSERT INTO {local_table} VALUES ({placeholders});\"\n",
    "    # Iterate over each row in the fetched results\n",
    "    for row in result:\n",
    "        # Execute the INSERT query with the values from the current row\n",
    "        local_cursor.execute(insert_query,tuple(row))\n",
    "\n",
    "    # Commit changes to the local database\n",
    "    local_conn.commit()"
   ]
  },
  {
   "cell_type": "code",
   "execution_count": null,
   "metadata": {},
   "outputs": [],
   "source": [
    "# Close connections\n",
    "remote_conn.close()\n",
    "local_conn.close()"
   ]
  }
 ],
 "metadata": {
  "kernelspec": {
   "display_name": "Python 3",
   "language": "python",
   "name": "python3"
  },
  "language_info": {
   "codemirror_mode": {
    "name": "ipython",
    "version": 3
   },
   "file_extension": ".py",
   "mimetype": "text/x-python",
   "name": "python",
   "nbconvert_exporter": "python",
   "pygments_lexer": "ipython3",
   "version": "3.10.11"
  }
 },
 "nbformat": 4,
 "nbformat_minor": 2
}
